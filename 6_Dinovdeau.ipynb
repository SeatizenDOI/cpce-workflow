{
 "cells": [
  {
   "cell_type": "markdown",
   "metadata": {},
   "source": [
    "# Training with dinoVdeau\n",
    "\n",
    "https://github.com/SeatizenDOI/DinoVdeau\n",
    "\n",
    "\n",
    "after install and setup config.json\n",
    "\n",
    "run : python main.py -tt monolabel\n"
   ]
  }
 ],
 "metadata": {
  "language_info": {
   "name": "python"
  }
 },
 "nbformat": 4,
 "nbformat_minor": 2
}
