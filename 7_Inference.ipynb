{
 "cells": [
  {
   "cell_type": "code",
   "execution_count": 58,
   "metadata": {},
   "outputs": [],
   "source": [
    "from pathlib import Path\n",
    "from PIL import Image, ImageDraw\n",
    "\n",
    "IMAGE_FOLDER = Path(\"dataset/test_folder\")\n",
    "CSV_FOLDER_OUTPUT = Path(\"csv/model_output\")\n",
    "CPCE_GRID = 3\n",
    "\n",
    "# Get an image\n",
    "# PUT cpce points in each corner and split\n",
    "# Resize to 128\n",
    "# Do predictions by batch\n"
   ]
  },
  {
   "cell_type": "code",
   "execution_count": 59,
   "metadata": {},
   "outputs": [],
   "source": [
    "def vizualize(centers: list, im: Image):\n",
    "\n",
    "    im_draw = ImageDraw.Draw(im)\n",
    "\n",
    "    for center in centers:\n",
    "        im_draw.circle(center, 5, fill=(255,255,255))\n",
    "    \n",
    "    im.show()\n",
    "\n",
    "def generate_centers(width: int, height: int) -> list[tuple[float, float]]:\n",
    "    w_step, h_step = width//CPCE_GRID, height//CPCE_GRID\n",
    "    return [(i, j) for i in range(0, width, w_step) for j in range(0, height, h_step)]\n",
    "\n",
    "\n",
    "\n",
    "def generate_thumbnails():\n",
    "    # generate points centers\n",
    "\n",
    "    # split thumbnails in tmp_folder\n",
    "\n",
    "    # \n",
    "    pass\n",
    "\n",
    "\n",
    "\n",
    "def load_images_from_folder(images_folder: Path) -> list[Path]:\n",
    "    \"\"\" Load images from a folder of images. \"\"\"\n",
    "    list_images = []        \n",
    "    \n",
    "    if not images_folder.exists() or not images_folder.is_dir():\n",
    "        raise NameError(f\"Cannot found {images_folder}\")\n",
    "\n",
    "\n",
    "    for img_path in images_folder.iterdir():\n",
    "        if not img_path.is_file() or img_path.suffix.lower() not in (\".jpeg\", \".jpg\", \".png\"): continue\n",
    "\n",
    "        # PIL open image without loading it in memory. We just test if image is not corrupt.\n",
    "        try:\n",
    "            with Image.open(img_path) as f:\n",
    "                list_images.append(img_path)\n",
    "        except:\n",
    "            continue\n",
    "\n",
    "    \n",
    "    return list_images"
   ]
  },
  {
   "cell_type": "code",
   "execution_count": 62,
   "metadata": {},
   "outputs": [
    {
     "name": "stdout",
     "output_type": "stream",
     "text": [
      "[(0, 0), (0, 170), (0, 340), (0, 510), (170, 0), (170, 170), (170, 340), (170, 510), (340, 0), (340, 170), (340, 340), (340, 510), (510, 0), (510, 170), (510, 340), (510, 510)]\n"
     ]
    }
   ],
   "source": [
    "# Get images\n",
    "list_images = load_images_from_folder(IMAGE_FOLDER)\n",
    "# Temp code\n",
    "\n",
    "img_path = list_images[0]\n",
    "im = Image.open(img_path)\n",
    "\n",
    "centers = generate_centers(im.width, im.height)\n",
    "print(centers)\n",
    "vizualize(centers, im)\n",
    "\n",
    "\n",
    "\n"
   ]
  }
 ],
 "metadata": {
  "kernelspec": {
   "display_name": "aina_env",
   "language": "python",
   "name": "python3"
  },
  "language_info": {
   "codemirror_mode": {
    "name": "ipython",
    "version": 3
   },
   "file_extension": ".py",
   "mimetype": "text/x-python",
   "name": "python",
   "nbconvert_exporter": "python",
   "pygments_lexer": "ipython3",
   "version": "3.12.7"
  }
 },
 "nbformat": 4,
 "nbformat_minor": 2
}
