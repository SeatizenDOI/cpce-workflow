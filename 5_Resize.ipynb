{
 "cells": [
  {
   "cell_type": "code",
   "execution_count": null,
   "metadata": {},
   "outputs": [],
   "source": [
    "import pandas as pd\n",
    "from pathlib import Path\n",
    "from PIL import Image\n",
    "from tqdm import tqdm\n",
    "\n",
    "CSV_PATH =  Path(\"/home1/datawork/villien/aina/csv/4_aina_thumbnails_both.csv\")\n",
    "INPUT_PATH = Path(\"/home1/datawork/villien/aina/thumbnails\")\n",
    "OUTPUT_PATH_RESIZED =  Path(\"/home1/datawork/villien/aina/thumbnails_resized_128\")"
   ]
  },
  {
   "cell_type": "code",
   "execution_count": null,
   "metadata": {},
   "outputs": [],
   "source": [
    "df = pd.read_csv(CSV_PATH)\n",
    "TO_RESIZE = 128\n",
    "cached = []\n",
    "for i, row in tqdm(df.iterrows(), total=len(df)):\n",
    "    img_path = Path(INPUT_PATH, row[\"FileName\"])\n",
    "    if not img_path.exists(): continue\n",
    "    \n",
    "    with Image.open(img_path) as im:\n",
    "        im_resized = im.resize((TO_RESIZE, TO_RESIZE))\n",
    "        im_resized.save(Path(OUTPUT_PATH_RESIZED, row[\"FileName\"]))"
   ]
  }
 ],
 "metadata": {
  "language_info": {
   "name": "python"
  }
 },
 "nbformat": 4,
 "nbformat_minor": 2
}
