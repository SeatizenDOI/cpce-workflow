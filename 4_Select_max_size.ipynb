{
 "cells": [
  {
   "cell_type": "code",
   "execution_count": null,
   "metadata": {},
   "outputs": [],
   "source": [
    "import pandas as pd\n",
    "from pathlib import Path\n",
    "from PIL import Image\n",
    "from tqdm import tqdm\n",
    "\n",
    "CSV_PATH =  Path(\"/home1/datawork/villien/aina/csv/4_aina_thumbnails_both.csv\")"
   ]
  },
  {
   "cell_type": "code",
   "execution_count": null,
   "metadata": {},
   "outputs": [],
   "source": [
    "df = pd.read_csv(CSV_PATH)\n",
    "\n",
    "cached = []\n",
    "for i, row in tqdm(df.iterrows(), total=len(df)):\n",
    "    img_path = Path(\"/home1/datawork/villien/aina/thumbnails\", row[\"FileName\"])\n",
    "    if not img_path.exists(): continue\n",
    "    \n",
    "    with Image.open(img_path) as im:\n",
    "        w, h = im.size\n",
    "    \n",
    "    if (w, h) not in cached:\n",
    "        cached.append((w, h))\n",
    "print(cached)"
   ]
  }
 ],
 "metadata": {
  "language_info": {
   "name": "python"
  }
 },
 "nbformat": 4,
 "nbformat_minor": 2
}
